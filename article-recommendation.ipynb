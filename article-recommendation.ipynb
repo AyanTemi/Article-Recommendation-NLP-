{
 "cells": [
  {
   "cell_type": "markdown",
   "id": "0925bbee",
   "metadata": {
    "papermill": {
     "duration": 0.008267,
     "end_time": "2023-01-26T20:11:22.265863",
     "exception": false,
     "start_time": "2023-01-26T20:11:22.257596",
     "status": "completed"
    },
    "tags": []
   },
   "source": [
    "# INTRODUCTION\n",
    "## __Aim:__ \n",
    "To build an article recommedation system using word embedding (Doc2Vec) and Cosine similarity.\n",
    "\n",
    "## __Dataset:__ \n",
    "The Medium article dataset from kaggle was used. The dataset contains title, text from articles, and other information about the article.\n",
    "\n",
    "\n",
    "## __Models:__\n",
    "__Doc2Vec:__  Doc2Vec is a word embedding technique that computes a feature vector for every document in the corpus unlike Word2vec which compute vector for every word. <br/>\n",
    "__Cosine Similarities:__ Cosine similarity is a metric used to measure the similarity of two vectors. it measures the cosine of the angle between two vectors projected in a multi-dimensional space."
   ]
  },
  {
   "cell_type": "markdown",
   "id": "b3e8543b",
   "metadata": {
    "papermill": {
     "duration": 0.007267,
     "end_time": "2023-01-26T20:11:22.279961",
     "exception": false,
     "start_time": "2023-01-26T20:11:22.272694",
     "status": "completed"
    },
    "tags": []
   },
   "source": [
    "# Data Wrangling"
   ]
  },
  {
   "cell_type": "code",
   "execution_count": 1,
   "id": "d77b606b",
   "metadata": {
    "_cell_guid": "b1076dfc-b9ad-4769-8c92-a6c4dae69d19",
    "_uuid": "8f2839f25d086af736a60e9eeb907d3b93b6e0e5",
    "execution": {
     "iopub.execute_input": "2023-01-26T20:11:22.295675Z",
     "iopub.status.busy": "2023-01-26T20:11:22.294941Z",
     "iopub.status.idle": "2023-01-26T20:11:22.321061Z",
     "shell.execute_reply": "2023-01-26T20:11:22.320152Z"
    },
    "papermill": {
     "duration": 0.036741,
     "end_time": "2023-01-26T20:11:22.323377",
     "exception": false,
     "start_time": "2023-01-26T20:11:22.286636",
     "status": "completed"
    },
    "tags": []
   },
   "outputs": [
    {
     "name": "stdout",
     "output_type": "stream",
     "text": [
      "/kaggle/input/medium-articles/articles.csv\n"
     ]
    }
   ],
   "source": [
    "# This Python 3 environment comes with many helpful analytics libraries installed\n",
    "# It is defined by the kaggle/python Docker image: https://github.com/kaggle/docker-python\n",
    "# For example, here's several helpful packages to load\n",
    "\n",
    "import numpy as np # linear algebra\n",
    "import pandas as pd # data processing, CSV file I/O (e.g. pd.read_csv)\n",
    "\n",
    "# Input data files are available in the read-only \"../input/\" directory\n",
    "# For example, running this (by clicking run or pressing Shift+Enter) will list all files under the input directory\n",
    "\n",
    "import os\n",
    "for dirname, _, filenames in os.walk('/kaggle/input'):\n",
    "    for filename in filenames:\n",
    "        print(os.path.join(dirname, filename))\n",
    "\n",
    "# You can write up to 20GB to the current directory (/kaggle/working/) that gets preserved as output when you create a version using \"Save & Run All\" \n",
    "# You can also write temporary files to /kaggle/temp/, but they won't be saved outside of the current session"
   ]
  },
  {
   "cell_type": "code",
   "execution_count": 2,
   "id": "7cfd3f95",
   "metadata": {
    "execution": {
     "iopub.execute_input": "2023-01-26T20:11:22.339143Z",
     "iopub.status.busy": "2023-01-26T20:11:22.338596Z",
     "iopub.status.idle": "2023-01-26T20:11:24.213580Z",
     "shell.execute_reply": "2023-01-26T20:11:24.212430Z"
    },
    "papermill": {
     "duration": 1.8861,
     "end_time": "2023-01-26T20:11:24.216368",
     "exception": false,
     "start_time": "2023-01-26T20:11:22.330268",
     "status": "completed"
    },
    "tags": []
   },
   "outputs": [],
   "source": [
    "#import dependencies\n",
    "#import dependencies\n",
    "import pandas as pd\n",
    "import re\n",
    "import nltk\n",
    "from nltk.tokenize import word_tokenize\n",
    "from nltk.corpus import stopwords\n",
    "from nltk.stem.wordnet import WordNetLemmatizer"
   ]
  },
  {
   "cell_type": "code",
   "execution_count": 3,
   "id": "496631c4",
   "metadata": {
    "execution": {
     "iopub.execute_input": "2023-01-26T20:11:24.231840Z",
     "iopub.status.busy": "2023-01-26T20:11:24.231377Z",
     "iopub.status.idle": "2023-01-26T20:11:24.373595Z",
     "shell.execute_reply": "2023-01-26T20:11:24.372363Z"
    },
    "papermill": {
     "duration": 0.153058,
     "end_time": "2023-01-26T20:11:24.376333",
     "exception": false,
     "start_time": "2023-01-26T20:11:24.223275",
     "status": "completed"
    },
    "tags": []
   },
   "outputs": [
    {
     "data": {
      "text/html": [
       "<div>\n",
       "<style scoped>\n",
       "    .dataframe tbody tr th:only-of-type {\n",
       "        vertical-align: middle;\n",
       "    }\n",
       "\n",
       "    .dataframe tbody tr th {\n",
       "        vertical-align: top;\n",
       "    }\n",
       "\n",
       "    .dataframe thead th {\n",
       "        text-align: right;\n",
       "    }\n",
       "</style>\n",
       "<table border=\"1\" class=\"dataframe\">\n",
       "  <thead>\n",
       "    <tr style=\"text-align: right;\">\n",
       "      <th></th>\n",
       "      <th>author</th>\n",
       "      <th>claps</th>\n",
       "      <th>reading_time</th>\n",
       "      <th>link</th>\n",
       "      <th>title</th>\n",
       "      <th>text</th>\n",
       "    </tr>\n",
       "  </thead>\n",
       "  <tbody>\n",
       "    <tr>\n",
       "      <th>0</th>\n",
       "      <td>Justin Lee</td>\n",
       "      <td>8.3K</td>\n",
       "      <td>11</td>\n",
       "      <td>https://medium.com/swlh/chatbots-were-the-next...</td>\n",
       "      <td>Chatbots were the next big thing: what happene...</td>\n",
       "      <td>Oh, how the headlines blared:\\nChatbots were T...</td>\n",
       "    </tr>\n",
       "    <tr>\n",
       "      <th>1</th>\n",
       "      <td>Conor Dewey</td>\n",
       "      <td>1.4K</td>\n",
       "      <td>7</td>\n",
       "      <td>https://towardsdatascience.com/python-for-data...</td>\n",
       "      <td>Python for Data Science: 8 Concepts You May Ha...</td>\n",
       "      <td>If you’ve ever found yourself looking up the s...</td>\n",
       "    </tr>\n",
       "    <tr>\n",
       "      <th>2</th>\n",
       "      <td>William Koehrsen</td>\n",
       "      <td>2.8K</td>\n",
       "      <td>11</td>\n",
       "      <td>https://towardsdatascience.com/automated-featu...</td>\n",
       "      <td>Automated Feature Engineering in Python – Towa...</td>\n",
       "      <td>Machine learning is increasingly moving from h...</td>\n",
       "    </tr>\n",
       "    <tr>\n",
       "      <th>3</th>\n",
       "      <td>Gant Laborde</td>\n",
       "      <td>1.3K</td>\n",
       "      <td>7</td>\n",
       "      <td>https://medium.freecodecamp.org/machine-learni...</td>\n",
       "      <td>Machine Learning: how to go from Zero to Hero ...</td>\n",
       "      <td>If your understanding of A.I. and Machine Lear...</td>\n",
       "    </tr>\n",
       "    <tr>\n",
       "      <th>4</th>\n",
       "      <td>Emmanuel Ameisen</td>\n",
       "      <td>935</td>\n",
       "      <td>11</td>\n",
       "      <td>https://blog.insightdatascience.com/reinforcem...</td>\n",
       "      <td>Reinforcement Learning from scratch – Insight ...</td>\n",
       "      <td>Want to learn about applied Artificial Intelli...</td>\n",
       "    </tr>\n",
       "  </tbody>\n",
       "</table>\n",
       "</div>"
      ],
      "text/plain": [
       "             author claps  reading_time  \\\n",
       "0        Justin Lee  8.3K            11   \n",
       "1       Conor Dewey  1.4K             7   \n",
       "2  William Koehrsen  2.8K            11   \n",
       "3      Gant Laborde  1.3K             7   \n",
       "4  Emmanuel Ameisen   935            11   \n",
       "\n",
       "                                                link  \\\n",
       "0  https://medium.com/swlh/chatbots-were-the-next...   \n",
       "1  https://towardsdatascience.com/python-for-data...   \n",
       "2  https://towardsdatascience.com/automated-featu...   \n",
       "3  https://medium.freecodecamp.org/machine-learni...   \n",
       "4  https://blog.insightdatascience.com/reinforcem...   \n",
       "\n",
       "                                               title  \\\n",
       "0  Chatbots were the next big thing: what happene...   \n",
       "1  Python for Data Science: 8 Concepts You May Ha...   \n",
       "2  Automated Feature Engineering in Python – Towa...   \n",
       "3  Machine Learning: how to go from Zero to Hero ...   \n",
       "4  Reinforcement Learning from scratch – Insight ...   \n",
       "\n",
       "                                                text  \n",
       "0  Oh, how the headlines blared:\\nChatbots were T...  \n",
       "1  If you’ve ever found yourself looking up the s...  \n",
       "2  Machine learning is increasingly moving from h...  \n",
       "3  If your understanding of A.I. and Machine Lear...  \n",
       "4  Want to learn about applied Artificial Intelli...  "
      ]
     },
     "execution_count": 3,
     "metadata": {},
     "output_type": "execute_result"
    }
   ],
   "source": [
    "df = pd.read_csv('/kaggle/input/medium-articles/articles.csv')\n",
    "df.head()"
   ]
  },
  {
   "cell_type": "code",
   "execution_count": 4,
   "id": "5e16a7a1",
   "metadata": {
    "execution": {
     "iopub.execute_input": "2023-01-26T20:11:24.392723Z",
     "iopub.status.busy": "2023-01-26T20:11:24.392266Z",
     "iopub.status.idle": "2023-01-26T20:11:24.420334Z",
     "shell.execute_reply": "2023-01-26T20:11:24.419397Z"
    },
    "papermill": {
     "duration": 0.039292,
     "end_time": "2023-01-26T20:11:24.423033",
     "exception": false,
     "start_time": "2023-01-26T20:11:24.383741",
     "status": "completed"
    },
    "tags": []
   },
   "outputs": [
    {
     "name": "stdout",
     "output_type": "stream",
     "text": [
      "<class 'pandas.core.frame.DataFrame'>\n",
      "RangeIndex: 337 entries, 0 to 336\n",
      "Data columns (total 6 columns):\n",
      " #   Column        Non-Null Count  Dtype \n",
      "---  ------        --------------  ----- \n",
      " 0   author        337 non-null    object\n",
      " 1   claps         337 non-null    object\n",
      " 2   reading_time  337 non-null    int64 \n",
      " 3   link          337 non-null    object\n",
      " 4   title         337 non-null    object\n",
      " 5   text          337 non-null    object\n",
      "dtypes: int64(1), object(5)\n",
      "memory usage: 15.9+ KB\n"
     ]
    }
   ],
   "source": [
    "df.info()"
   ]
  },
  {
   "cell_type": "code",
   "execution_count": 5,
   "id": "70706cb6",
   "metadata": {
    "execution": {
     "iopub.execute_input": "2023-01-26T20:11:24.439703Z",
     "iopub.status.busy": "2023-01-26T20:11:24.438615Z",
     "iopub.status.idle": "2023-01-26T20:11:24.448477Z",
     "shell.execute_reply": "2023-01-26T20:11:24.447574Z"
    },
    "papermill": {
     "duration": 0.02053,
     "end_time": "2023-01-26T20:11:24.450762",
     "exception": false,
     "start_time": "2023-01-26T20:11:24.430232",
     "status": "completed"
    },
    "tags": []
   },
   "outputs": [
    {
     "data": {
      "text/plain": [
       "author          0\n",
       "claps           0\n",
       "reading_time    0\n",
       "link            0\n",
       "title           0\n",
       "text            0\n",
       "dtype: int64"
      ]
     },
     "execution_count": 5,
     "metadata": {},
     "output_type": "execute_result"
    }
   ],
   "source": [
    "df.isna().sum()"
   ]
  },
  {
   "cell_type": "code",
   "execution_count": 6,
   "id": "56939c81",
   "metadata": {
    "execution": {
     "iopub.execute_input": "2023-01-26T20:11:24.467819Z",
     "iopub.status.busy": "2023-01-26T20:11:24.466645Z",
     "iopub.status.idle": "2023-01-26T20:11:24.478224Z",
     "shell.execute_reply": "2023-01-26T20:11:24.476987Z"
    },
    "papermill": {
     "duration": 0.02291,
     "end_time": "2023-01-26T20:11:24.480994",
     "exception": false,
     "start_time": "2023-01-26T20:11:24.458084",
     "status": "completed"
    },
    "tags": []
   },
   "outputs": [],
   "source": [
    "#Combine article title and text into one column\n",
    "df['text'] = df['title'] + ' ' + df['text']"
   ]
  },
  {
   "cell_type": "code",
   "execution_count": 7,
   "id": "d9f858f8",
   "metadata": {
    "execution": {
     "iopub.execute_input": "2023-01-26T20:11:24.498162Z",
     "iopub.status.busy": "2023-01-26T20:11:24.497716Z",
     "iopub.status.idle": "2023-01-26T20:11:24.504719Z",
     "shell.execute_reply": "2023-01-26T20:11:24.503493Z"
    },
    "papermill": {
     "duration": 0.019073,
     "end_time": "2023-01-26T20:11:24.507301",
     "exception": false,
     "start_time": "2023-01-26T20:11:24.488228",
     "status": "completed"
    },
    "tags": []
   },
   "outputs": [],
   "source": [
    "#drop unneccesary columns\n",
    "df.drop(['title', 'author', 'claps', 'reading_time', 'link'], axis=1, inplace = True)"
   ]
  },
  {
   "cell_type": "code",
   "execution_count": 8,
   "id": "df3b519d",
   "metadata": {
    "execution": {
     "iopub.execute_input": "2023-01-26T20:11:24.523935Z",
     "iopub.status.busy": "2023-01-26T20:11:24.523258Z",
     "iopub.status.idle": "2023-01-26T20:11:24.544949Z",
     "shell.execute_reply": "2023-01-26T20:11:24.543764Z"
    },
    "papermill": {
     "duration": 0.033311,
     "end_time": "2023-01-26T20:11:24.547921",
     "exception": false,
     "start_time": "2023-01-26T20:11:24.514610",
     "status": "completed"
    },
    "tags": []
   },
   "outputs": [
    {
     "data": {
      "text/plain": [
       "107"
      ]
     },
     "execution_count": 8,
     "metadata": {},
     "output_type": "execute_result"
    }
   ],
   "source": [
    "#check for duplicated text\n",
    "df.duplicated().sum()"
   ]
  },
  {
   "cell_type": "code",
   "execution_count": 9,
   "id": "d300c68c",
   "metadata": {
    "execution": {
     "iopub.execute_input": "2023-01-26T20:11:24.564515Z",
     "iopub.status.busy": "2023-01-26T20:11:24.564133Z",
     "iopub.status.idle": "2023-01-26T20:11:24.578005Z",
     "shell.execute_reply": "2023-01-26T20:11:24.576854Z"
    },
    "papermill": {
     "duration": 0.025671,
     "end_time": "2023-01-26T20:11:24.580931",
     "exception": false,
     "start_time": "2023-01-26T20:11:24.555260",
     "status": "completed"
    },
    "tags": []
   },
   "outputs": [],
   "source": [
    "#drop duplicate text\n",
    "df.drop_duplicates(inplace = True)"
   ]
  },
  {
   "cell_type": "code",
   "execution_count": 10,
   "id": "2ed6f196",
   "metadata": {
    "execution": {
     "iopub.execute_input": "2023-01-26T20:11:24.597935Z",
     "iopub.status.busy": "2023-01-26T20:11:24.597490Z",
     "iopub.status.idle": "2023-01-26T20:11:24.603033Z",
     "shell.execute_reply": "2023-01-26T20:11:24.601772Z"
    },
    "papermill": {
     "duration": 0.01697,
     "end_time": "2023-01-26T20:11:24.605512",
     "exception": false,
     "start_time": "2023-01-26T20:11:24.588542",
     "status": "completed"
    },
    "tags": []
   },
   "outputs": [],
   "source": [
    "#reset index\n",
    "df.reset_index(drop=True, inplace=True)"
   ]
  },
  {
   "cell_type": "code",
   "execution_count": 11,
   "id": "9f68ddfc",
   "metadata": {
    "execution": {
     "iopub.execute_input": "2023-01-26T20:11:24.622260Z",
     "iopub.status.busy": "2023-01-26T20:11:24.621501Z",
     "iopub.status.idle": "2023-01-26T20:11:24.632346Z",
     "shell.execute_reply": "2023-01-26T20:11:24.631046Z"
    },
    "papermill": {
     "duration": 0.021955,
     "end_time": "2023-01-26T20:11:24.634878",
     "exception": false,
     "start_time": "2023-01-26T20:11:24.612923",
     "status": "completed"
    },
    "tags": []
   },
   "outputs": [
    {
     "data": {
      "text/html": [
       "<div>\n",
       "<style scoped>\n",
       "    .dataframe tbody tr th:only-of-type {\n",
       "        vertical-align: middle;\n",
       "    }\n",
       "\n",
       "    .dataframe tbody tr th {\n",
       "        vertical-align: top;\n",
       "    }\n",
       "\n",
       "    .dataframe thead th {\n",
       "        text-align: right;\n",
       "    }\n",
       "</style>\n",
       "<table border=\"1\" class=\"dataframe\">\n",
       "  <thead>\n",
       "    <tr style=\"text-align: right;\">\n",
       "      <th></th>\n",
       "      <th>text</th>\n",
       "    </tr>\n",
       "  </thead>\n",
       "  <tbody>\n",
       "    <tr>\n",
       "      <th>225</th>\n",
       "      <td>Stochastic Weight Averaging — a New Way to Get...</td>\n",
       "    </tr>\n",
       "    <tr>\n",
       "      <th>226</th>\n",
       "      <td>Artificial Intelligence, AI in 2018 and beyond...</td>\n",
       "    </tr>\n",
       "    <tr>\n",
       "      <th>227</th>\n",
       "      <td>Spiking Neural Networks, the Next Generation o...</td>\n",
       "    </tr>\n",
       "    <tr>\n",
       "      <th>228</th>\n",
       "      <td>Surprise! Neurons are Now More Complex than We...</td>\n",
       "    </tr>\n",
       "    <tr>\n",
       "      <th>229</th>\n",
       "      <td>“WTH does a neural network even learn??” — a n...</td>\n",
       "    </tr>\n",
       "  </tbody>\n",
       "</table>\n",
       "</div>"
      ],
      "text/plain": [
       "                                                  text\n",
       "225  Stochastic Weight Averaging — a New Way to Get...\n",
       "226  Artificial Intelligence, AI in 2018 and beyond...\n",
       "227  Spiking Neural Networks, the Next Generation o...\n",
       "228  Surprise! Neurons are Now More Complex than We...\n",
       "229  “WTH does a neural network even learn??” — a n..."
      ]
     },
     "execution_count": 11,
     "metadata": {},
     "output_type": "execute_result"
    }
   ],
   "source": [
    "df.tail()"
   ]
  },
  {
   "cell_type": "markdown",
   "id": "bdbc4b72",
   "metadata": {
    "papermill": {
     "duration": 0.007145,
     "end_time": "2023-01-26T20:11:24.649586",
     "exception": false,
     "start_time": "2023-01-26T20:11:24.642441",
     "status": "completed"
    },
    "tags": []
   },
   "source": [
    "# Text Prepreocesssing"
   ]
  },
  {
   "cell_type": "code",
   "execution_count": 12,
   "id": "f454998e",
   "metadata": {
    "execution": {
     "iopub.execute_input": "2023-01-26T20:11:24.666586Z",
     "iopub.status.busy": "2023-01-26T20:11:24.666189Z",
     "iopub.status.idle": "2023-01-26T20:11:24.808254Z",
     "shell.execute_reply": "2023-01-26T20:11:24.807433Z"
    },
    "papermill": {
     "duration": 0.154571,
     "end_time": "2023-01-26T20:11:24.811788",
     "exception": false,
     "start_time": "2023-01-26T20:11:24.657217",
     "status": "completed"
    },
    "tags": []
   },
   "outputs": [
    {
     "name": "stderr",
     "output_type": "stream",
     "text": [
      "[nltk_data] Downloading package stopwords to /usr/share/nltk_data...\n",
      "[nltk_data]   Package stopwords is already up-to-date!\n"
     ]
    }
   ],
   "source": [
    "lemma = WordNetLemmatizer()\n",
    "nltk.download('stopwords')\n",
    "stopword_list = stopwords.words('english')"
   ]
  },
  {
   "cell_type": "code",
   "execution_count": 13,
   "id": "f9ea920c",
   "metadata": {
    "execution": {
     "iopub.execute_input": "2023-01-26T20:11:24.830352Z",
     "iopub.status.busy": "2023-01-26T20:11:24.829450Z",
     "iopub.status.idle": "2023-01-26T20:11:24.835805Z",
     "shell.execute_reply": "2023-01-26T20:11:24.834915Z"
    },
    "papermill": {
     "duration": 0.017606,
     "end_time": "2023-01-26T20:11:24.838013",
     "exception": false,
     "start_time": "2023-01-26T20:11:24.820407",
     "status": "completed"
    },
    "tags": []
   },
   "outputs": [],
   "source": [
    "#Define a function for preprocessing\n",
    "\n",
    "def clean(text):\n",
    "  #remove special characters\n",
    "  text = re.sub(\"[^A-Za-z0-9 ]\", \" \", text)\n",
    "  #convert text to lowercase\n",
    "  text = text.lower()\n",
    "  #tokenize text\n",
    "  tokens = nltk.word_tokenize(text)\n",
    "  #remove stopwords\n",
    "  text_list = []\n",
    "  for token in tokens:\n",
    "    if token not in stopword_list:\n",
    "      #lemmatization\n",
    "      text_list.append(lemma.lemmatize(token))\n",
    "  return ' '.join(text_list)"
   ]
  },
  {
   "cell_type": "code",
   "execution_count": 14,
   "id": "6dc8f48f",
   "metadata": {
    "execution": {
     "iopub.execute_input": "2023-01-26T20:11:24.855663Z",
     "iopub.status.busy": "2023-01-26T20:11:24.855056Z",
     "iopub.status.idle": "2023-01-26T20:11:30.219649Z",
     "shell.execute_reply": "2023-01-26T20:11:30.218374Z"
    },
    "papermill": {
     "duration": 5.376593,
     "end_time": "2023-01-26T20:11:30.222476",
     "exception": false,
     "start_time": "2023-01-26T20:11:24.845883",
     "status": "completed"
    },
    "tags": []
   },
   "outputs": [],
   "source": [
    "#apply clean function on the text column\n",
    "df.text = df.text.apply(clean)"
   ]
  },
  {
   "cell_type": "code",
   "execution_count": 15,
   "id": "b7dd8ee8",
   "metadata": {
    "execution": {
     "iopub.execute_input": "2023-01-26T20:11:30.239533Z",
     "iopub.status.busy": "2023-01-26T20:11:30.239126Z",
     "iopub.status.idle": "2023-01-26T20:11:30.250162Z",
     "shell.execute_reply": "2023-01-26T20:11:30.248801Z"
    },
    "papermill": {
     "duration": 0.022814,
     "end_time": "2023-01-26T20:11:30.253031",
     "exception": false,
     "start_time": "2023-01-26T20:11:30.230217",
     "status": "completed"
    },
    "tags": []
   },
   "outputs": [
    {
     "data": {
      "text/html": [
       "<div>\n",
       "<style scoped>\n",
       "    .dataframe tbody tr th:only-of-type {\n",
       "        vertical-align: middle;\n",
       "    }\n",
       "\n",
       "    .dataframe tbody tr th {\n",
       "        vertical-align: top;\n",
       "    }\n",
       "\n",
       "    .dataframe thead th {\n",
       "        text-align: right;\n",
       "    }\n",
       "</style>\n",
       "<table border=\"1\" class=\"dataframe\">\n",
       "  <thead>\n",
       "    <tr style=\"text-align: right;\">\n",
       "      <th></th>\n",
       "      <th>text</th>\n",
       "    </tr>\n",
       "  </thead>\n",
       "  <tbody>\n",
       "    <tr>\n",
       "      <th>0</th>\n",
       "      <td>chatbots next big thing happened startup mediu...</td>\n",
       "    </tr>\n",
       "    <tr>\n",
       "      <th>1</th>\n",
       "      <td>python data science 8 concept may forgotten ev...</td>\n",
       "    </tr>\n",
       "    <tr>\n",
       "      <th>2</th>\n",
       "      <td>automated feature engineering python towards d...</td>\n",
       "    </tr>\n",
       "    <tr>\n",
       "      <th>3</th>\n",
       "      <td>machine learning go zero hero freecodecamp und...</td>\n",
       "    </tr>\n",
       "    <tr>\n",
       "      <th>4</th>\n",
       "      <td>reinforcement learning scratch insight data wa...</td>\n",
       "    </tr>\n",
       "  </tbody>\n",
       "</table>\n",
       "</div>"
      ],
      "text/plain": [
       "                                                text\n",
       "0  chatbots next big thing happened startup mediu...\n",
       "1  python data science 8 concept may forgotten ev...\n",
       "2  automated feature engineering python towards d...\n",
       "3  machine learning go zero hero freecodecamp und...\n",
       "4  reinforcement learning scratch insight data wa..."
      ]
     },
     "execution_count": 15,
     "metadata": {},
     "output_type": "execute_result"
    }
   ],
   "source": [
    "df.head()"
   ]
  },
  {
   "cell_type": "code",
   "execution_count": 16,
   "id": "b6706bf9",
   "metadata": {
    "execution": {
     "iopub.execute_input": "2023-01-26T20:11:30.270811Z",
     "iopub.status.busy": "2023-01-26T20:11:30.270410Z",
     "iopub.status.idle": "2023-01-26T20:11:30.309799Z",
     "shell.execute_reply": "2023-01-26T20:11:30.308927Z"
    },
    "papermill": {
     "duration": 0.051182,
     "end_time": "2023-01-26T20:11:30.312381",
     "exception": false,
     "start_time": "2023-01-26T20:11:30.261199",
     "status": "completed"
    },
    "tags": []
   },
   "outputs": [],
   "source": [
    "#compute a list of the texts\n",
    "text_list = [list(i.split(' ')) for i in df.text]"
   ]
  },
  {
   "cell_type": "code",
   "execution_count": 17,
   "id": "182124f6",
   "metadata": {
    "execution": {
     "iopub.execute_input": "2023-01-26T20:11:30.330056Z",
     "iopub.status.busy": "2023-01-26T20:11:30.329204Z",
     "iopub.status.idle": "2023-01-26T20:11:30.681869Z",
     "shell.execute_reply": "2023-01-26T20:11:30.680776Z"
    },
    "papermill": {
     "duration": 0.364584,
     "end_time": "2023-01-26T20:11:30.684655",
     "exception": false,
     "start_time": "2023-01-26T20:11:30.320071",
     "status": "completed"
    },
    "tags": []
   },
   "outputs": [],
   "source": [
    "#Tagging the documents\n",
    "#Each set of words are mapped unique index.\n",
    "import gensim\n",
    "from gensim.models.doc2vec import Doc2Vec, TaggedDocument\n",
    "\n",
    "tagged_data = [TaggedDocument(words = doc, tags=[i]) for i, doc in enumerate(text_list)]"
   ]
  },
  {
   "cell_type": "code",
   "execution_count": 18,
   "id": "72812814",
   "metadata": {
    "execution": {
     "iopub.execute_input": "2023-01-26T20:11:30.702896Z",
     "iopub.status.busy": "2023-01-26T20:11:30.702093Z",
     "iopub.status.idle": "2023-01-26T20:11:30.710248Z",
     "shell.execute_reply": "2023-01-26T20:11:30.709146Z"
    },
    "papermill": {
     "duration": 0.020061,
     "end_time": "2023-01-26T20:11:30.712712",
     "exception": false,
     "start_time": "2023-01-26T20:11:30.692651",
     "status": "completed"
    },
    "tags": []
   },
   "outputs": [
    {
     "data": {
      "text/plain": [
       "TaggedDocument(words=['chatbots', 'next', 'big', 'thing', 'happened', 'startup', 'medium', 'oh', 'headline', 'blared', 'chatbots', 'next', 'big', 'thing', 'hope', 'sky', 'high', 'bright', 'eyed', 'bushy', 'tailed', 'industry', 'ripe', 'new', 'era', 'innovation', 'time', 'start', 'socializing', 'machine', 'road', 'sign', 'pointed', 'towards', 'insane', 'success', 'mobile', 'world', 'congress', '2017', 'chatbots', 'main', 'headliner', 'conference', 'organizer', 'cited', 'overwhelming', 'acceptance', 'event', 'inevitable', 'shift', 'focus', 'brand', 'corporates', 'chatbots', 'fact', 'significant', 'question', 'around', 'chatbots', 'would', 'monopolize', 'field', 'whether', 'chatbots', 'would', 'take', 'first', 'place', 'one', 'year', 'answer', 'question', 'even', 'ecosystem', 'platform', 'dominate', 'chatbots', 'first', 'technological', 'development', 'talked', 'grandiose', 'term', 'slump', 'spectacularly', 'age', 'old', 'hype', 'cycle', 'unfolded', 'familiar', 'fashion', 'expectation', 'built', 'built', 'kind', 'fizzled', 'predicted', 'paradim', 'shift', 'materialize', 'apps', 'tellingly', 'still', 'alive', 'well', 'look', 'back', 'breathless', 'optimism', 'turn', 'slightly', 'baffled', 'chatbot', 'revolution', 'promised', 'digit', 'ethan', 'bloch', 'sum', 'general', 'consensus', 'according', 'dave', 'feldman', 'vice', 'president', 'product', 'design', 'heap', 'chatbots', 'take', 'one', 'difficult', 'problem', 'fail', 'took', 'several', 'failed', 'bot', 'interface', 'user', 'different', 'way', 'big', 'divide', 'text', 'v', 'speech', 'beginning', 'computer', 'interface', 'written', 'word', 'user', 'type', 'command', 'manually', 'machine', 'get', 'anything', 'done', 'graphical', 'user', 'interface', 'gui', 'came', 'along', 'saved', 'day', 'became', 'entranced', 'window', 'mouse', 'click', 'icon', 'hey', 'eventually', 'got', 'color', 'meanwhile', 'bunch', 'research', 'scientist', 'busily', 'developing', 'natural', 'language', 'nl', 'interface', 'database', 'instead', 'learn', 'arcane', 'database', 'query', 'language', 'another', 'bunch', 'scientist', 'developing', 'speech', 'processing', 'software', 'could', 'speak', 'computer', 'rather', 'type', 'turned', 'whole', 'lot', 'difficult', 'anyone', 'originally', 'realised', 'next', 'item', 'agenda', 'holding', 'two', 'way', 'dialog', 'machine', 'example', 'dialog', 'dating', 'back', '1990s', 'vcr', 'setup', 'system', 'pretty', 'cool', 'right', 'system', 'take', 'turn', 'collaborative', 'way', 'smart', 'job', 'figuring', 'user', 'want', 'carefully', 'crafted', 'deal', 'conversation', 'involving', 'vcr', 'could', 'operate', 'within', 'strict', 'limitation', 'modern', 'day', 'bot', 'whether', 'use', 'typed', 'spoken', 'input', 'face', 'challenge', 'also', 'work', 'efficient', 'scalable', 'way', 'variety', 'platform', 'basically', 'still', 'trying', 'achieve', 'innovation', '30', 'year', 'ago', 'think', 'going', 'wrong', 'oversized', 'assumption', 'apps', 'would', 'replaced', 'bot', 'pitting', 'two', 'disparate', 'concept', 'one', 'another', 'instead', 'seeing', 'separate', 'entity', 'designed', 'serve', 'different', 'purpose', 'discouraged', 'bot', 'development', 'might', 'remember', 'similar', 'war', 'cry', 'apps', 'first', 'came', 'onto', 'scene', 'ten', 'year', 'ago', 'remember', 'apps', 'replaced', 'internet', 'said', 'new', 'product', 'service', 'need', 'two', 'following', 'better', 'cheaper', 'faster', 'chatbots', 'cheaper', 'faster', 'apps', 'yet', 'least', 'whether', 'better', 'subjective', 'think', 'fair', 'say', 'today', 'best', 'bot', 'comparable', 'today', 'best', 'app', 'plus', 'nobody', 'think', 'using', 'lyft', 'complicated', 'hard', 'order', 'food', 'buy', 'dress', 'app', 'complicated', 'trying', 'complete', 'task', 'bot', 'bot', 'fail', 'great', 'bot', 'useful', 'average', 'app', 'come', 'rich', 'sophisticated', 'multi', 'layered', 'apps', 'competition', 'machine', 'let', 'u', 'access', 'vast', 'complex', 'information', 'system', 'early', 'graphical', 'information', 'system', 'revolutionary', 'leap', 'forward', 'helping', 'u', 'locate', 'system', 'modern', 'day', 'apps', 'benefit', 'decade', 'research', 'experimentation', 'would', 'throw', 'away', 'swap', 'word', 'replace', 'extend', 'thing', 'get', 'much', 'interesting', 'today', 'successful', 'bot', 'experience', 'take', 'hybrid', 'approach', 'incorporating', 'chat', 'broader', 'strategy', 'encompasses', 'traditional', 'element', 'next', 'wave', 'multimodal', 'apps', 'say', 'want', 'like', 'siri', 'get', 'back', 'information', 'map', 'text', 'even', 'spoken', 'response', 'another', 'problematic', 'aspect', 'sweeping', 'nature', 'hype', 'tends', 'bypass', 'essential', 'question', 'like', 'plenty', 'company', 'bot', 'right', 'solution', 'past', 'two', 'year', 'littered', 'case', 'bot', 'blindly', 'applied', 'problem', 'needed', 'building', 'bot', 'sake', 'letting', 'loose', 'hoping', 'best', 'never', 'end', 'well', 'vast', 'majority', 'bot', 'built', 'using', 'decision', 'tree', 'logic', 'bot', 'canned', 'response', 'relies', 'spotting', 'specific', 'keywords', 'user', 'input', 'advantage', 'approach', 'pretty', 'easy', 'list', 'case', 'designed', 'cover', 'precisely', 'disadvantage', 'bot', 'purely', 'reflection', 'capability', 'fastidiousness', 'patience', 'person', 'created', 'many', 'user', 'need', 'input', 'able', 'anticipate', 'problem', 'arise', 'life', 'refuse', 'fit', 'box', 'according', 'recent', 'report', '70', '100', '000', 'bot', 'facebook', 'messenger', 'failing', 'fulfil', 'simple', 'user', 'request', 'partly', 'result', 'developer', 'failing', 'narrow', 'bot', 'one', 'strong', 'area', 'focus', 'building', 'growthbot', 'decided', 'make', 'specific', 'sale', 'marketer', 'rounder', 'despite', 'temptation', 'get', 'overexcited', 'potential', 'capabilties', 'remember', 'bot', 'one', 'thing', 'well', 'infinitely', 'helpful', 'bot', 'multiple', 'thing', 'poorly', 'competent', 'developer', 'build', 'basic', 'bot', 'minute', 'one', 'hold', 'conversation', 'another', 'story', 'despite', 'constant', 'hype', 'around', 'ai', 'still', 'long', 'way', 'achieving', 'anything', 'remotely', 'human', 'like', 'ideal', 'world', 'technology', 'known', 'nlp', 'natural', 'language', 'processing', 'allow', 'chatbot', 'understand', 'message', 'receives', 'nlp', 'emerging', 'research', 'lab', 'much', 'infancy', 'platform', 'provide', 'bit', 'nlp', 'even', 'best', 'toddler', 'level', 'capacity', 'example', 'think', 'siri', 'understanding', 'word', 'meaning', 'matt', 'asay', 'outline', 'result', 'another', 'issue', 'failure', 'capture', 'attention', 'creativity', 'developer', 'conversation', 'complex', 'linear', 'topic', 'spin', 'around', 'take', 'random', 'turn', 'restart', 'abruptly', 'finish', 'today', 'rule', 'based', 'dialogue', 'system', 'brittle', 'deal', 'kind', 'unpredictability', 'statistical', 'approach', 'using', 'machine', 'learning', 'limited', 'level', 'ai', 'required', 'human', 'like', 'conversation', 'available', 'yet', 'meantime', 'high', 'quality', 'example', 'trailblazing', 'bot', 'lead', 'way', 'dave', 'feldman', 'remarked', 'upon', 'time', 'way', 'interact', 'computer', 'typing', 'arcane', 'command', 'terminal', 'visual', 'interface', 'using', 'window', 'icon', 'mouse', 'revolution', 'manipulate', 'information', 'reason', 'computing', 'moved', 'text', 'based', 'graphical', 'user', 'interface', 'gui', 'input', 'side', 'easier', 'faster', 'click', 'type', 'tapping', 'selecting', 'obviously', 'preferable', 'typing', 'whole', 'sentence', 'even', 'predictive', 'often', 'error', 'prone', 'text', 'output', 'side', 'old', 'adage', 'picture', 'worth', 'thousand', 'word', 'usually', 'true', 'love', 'optical', 'display', 'information', 'highly', 'visual', 'creature', 'accident', 'kid', 'love', 'touch', 'screen', 'pioneer', 'dreamt', 'graphical', 'interface', 'inspired', 'cognitive', 'psychology', 'study', 'brain', 'deal', 'communication', 'conversational', 'uis', 'meant', 'replicate', 'way', 'human', 'prefer', 'communicate', 'end', 'requiring', 'extra', 'cognitive', 'effort', 'essentially', 'swapping', 'something', 'simple', 'complex', 'alternative', 'sure', 'concept', 'express', 'using', 'language', 'show', 'way', 'getting', 'museum', 'give', '2000', 'step', 'take', 'longer', '35', 'minute', 'task', 'carried', 'efficiently', 'intuitively', 'gui', 'conversational', 'ui', 'aiming', 'human', 'dimension', 'business', 'interaction', 'make', 'sense', 'one', 'thing', 'broken', 'sale', 'marketing', 'lack', 'humanity', 'brand', 'hide', 'behind', 'ticket', 'number', 'feedback', 'form', 'reply', 'email', 'automated', 'response', 'gated', 'contact', 'u', 'form', 'facebook', 'goal', 'bot', 'pas', 'called', 'turing', 'test', 'meaning', 'tell', 'whether', 'talking', 'bot', 'human', 'bot', 'human', 'never', 'conversation', 'encompasses', 'much', 'text', 'human', 'read', 'line', 'leverage', 'contextual', 'information', 'understand', 'double', 'layer', 'like', 'sarcasm', 'bot', 'quickly', 'forget', 'talking', 'meaning', 'bit', 'like', 'conversing', 'someone', 'little', 'short', 'term', 'memory', 'hubspot', 'team', 'pinpointed', 'people', 'easily', 'fooled', 'pretending', 'bot', 'human', 'guaranteed', 'diminish', 'return', 'mention', 'fact', 'lying', 'user', 'even', 'rare', 'bot', 'powered', 'state', 'art', 'nlp', 'excel', 'processing', 'producing', 'content', 'fall', 'short', 'comparison', 'thing', 'conversational', 'uis', 'built', 'replicate', 'way', 'human', 'prefer', 'communicate', 'human', 'human', 'prefer', 'interact', 'machine', 'necessarily', 'end', 'day', 'amount', 'witty', 'quip', 'human', 'like', 'mannerism', 'save', 'bot', 'conversational', 'failure', 'way', 'early', 'adopter', 'entirely', 'wrong', 'people', 'yelling', 'google', 'home', 'play', 'favorite', 'song', 'ordering', 'pizza', 'domino', 'bot', 'getting', 'makeup', 'tip', 'sephora', 'term', 'consumer', 'response', 'developer', 'involvement', 'chatbots', 'lived', 'hype', 'generated', 'circa', '2015', '16', 'even', 'close', 'computer', 'good', 'computer', 'searching', 'data', 'crunching', 'number', 'analyzing', 'opinion', 'condensing', 'information', 'computer', 'good', 'understanding', 'human', 'emotion', 'state', 'nlp', 'mean', 'still', 'get', 'asking', 'never', 'mind', 'feel', 'still', 'impossible', 'imagine', 'effective', 'customer', 'support', 'sale', 'marketing', 'without', 'essential', 'human', 'touch', 'empathy', 'emotional', 'intelligence', 'bot', 'continue', 'help', 'u', 'automated', 'repetitive', 'low', 'level', 'task', 'query', 'cog', 'larger', 'complex', 'system', 'disservice', 'expecting', 'much', 'soon', 'whole', 'story', 'yes', 'industry', 'massively', 'overestimated', 'initial', 'impact', 'chatbots', 'would', 'emphasis', 'initial', 'bill', 'gate', 'said', 'hype', 'good', 'thing', 'start', 'examining', 'middle', 'grounded', 'grey', 'area', 'instead', 'hyper', 'inflated', 'frantic', 'black', 'white', 'zone', 'believe', 'beginning', 'explosive', 'growth', 'sense', 'anti', 'climax', 'completely', 'normal', 'transformational', 'technology', 'messaging', 'continue', 'gain', 'traction', 'chatbots', 'going', 'away', 'nlp', 'ai', 'becoming', 'sophisticated', 'every', 'day', 'developer', 'apps', 'platform', 'continue', 'experiment', 'heavily', 'invest', 'conversational', 'marketing', 'wait', 'see', 'happens', 'next', 'quick', 'cheer', 'standing', 'ovation', 'clap', 'show', 'much', 'enjoyed', 'story', 'head', 'growth', 'growthbot', 'messaging', 'conversational', 'strategy', 'hubspot', 'medium', 'largest', 'publication', 'maker', 'subscribe', 'receive', 'top', 'story', 'http', 'goo', 'gl', 'zhclji'], tags=[0])"
      ]
     },
     "execution_count": 18,
     "metadata": {},
     "output_type": "execute_result"
    }
   ],
   "source": [
    "tagged_data[0]"
   ]
  },
  {
   "cell_type": "markdown",
   "id": "430d8ed2",
   "metadata": {
    "papermill": {
     "duration": 0.00765,
     "end_time": "2023-01-26T20:11:30.728447",
     "exception": false,
     "start_time": "2023-01-26T20:11:30.720797",
     "status": "completed"
    },
    "tags": []
   },
   "source": [
    "# Modelleing (Doc2vec)"
   ]
  },
  {
   "cell_type": "code",
   "execution_count": 19,
   "id": "34288792",
   "metadata": {
    "execution": {
     "iopub.execute_input": "2023-01-26T20:11:30.746788Z",
     "iopub.status.busy": "2023-01-26T20:11:30.745991Z",
     "iopub.status.idle": "2023-01-26T20:11:33.786263Z",
     "shell.execute_reply": "2023-01-26T20:11:33.785268Z"
    },
    "papermill": {
     "duration": 3.05254,
     "end_time": "2023-01-26T20:11:33.789000",
     "exception": false,
     "start_time": "2023-01-26T20:11:30.736460",
     "status": "completed"
    },
    "tags": []
   },
   "outputs": [],
   "source": [
    "#Doc2vec\n",
    "model = Doc2Vec(tagged_data, min_count=1, workers=4)"
   ]
  },
  {
   "cell_type": "markdown",
   "id": "aacad441",
   "metadata": {
    "papermill": {
     "duration": 0.007479,
     "end_time": "2023-01-26T20:11:33.804483",
     "exception": false,
     "start_time": "2023-01-26T20:11:33.797004",
     "status": "completed"
    },
    "tags": []
   },
   "source": [
    "# Cosine similarity "
   ]
  },
  {
   "cell_type": "code",
   "execution_count": 20,
   "id": "75477403",
   "metadata": {
    "execution": {
     "iopub.execute_input": "2023-01-26T20:11:33.822312Z",
     "iopub.status.busy": "2023-01-26T20:11:33.821526Z",
     "iopub.status.idle": "2023-01-26T20:11:33.858222Z",
     "shell.execute_reply": "2023-01-26T20:11:33.856426Z"
    },
    "papermill": {
     "duration": 0.051005,
     "end_time": "2023-01-26T20:11:33.863327",
     "exception": false,
     "start_time": "2023-01-26T20:11:33.812322",
     "status": "completed"
    },
    "tags": []
   },
   "outputs": [],
   "source": [
    "# take the first article in the dataframe and vectorize it. \n",
    "article_rec_sim = df.text[0].split(' ')\n",
    "article_vectorized = model.infer_vector(article_rec_sim)\n",
    "\n",
    "\n",
    "# Calculate cosine similarity for top 5 most similar article \n",
    "sim_5_article = model.dv.most_similar(positive=[article_vectorized])[:5]"
   ]
  },
  {
   "cell_type": "markdown",
   "id": "1502d6f5",
   "metadata": {
    "papermill": {
     "duration": 0.019305,
     "end_time": "2023-01-26T20:11:33.902716",
     "exception": false,
     "start_time": "2023-01-26T20:11:33.883411",
     "status": "completed"
    },
    "tags": []
   },
   "source": [
    "# INFERENCE"
   ]
  },
  {
   "cell_type": "code",
   "execution_count": 21,
   "id": "a0353aa3",
   "metadata": {
    "execution": {
     "iopub.execute_input": "2023-01-26T20:11:33.945708Z",
     "iopub.status.busy": "2023-01-26T20:11:33.944989Z",
     "iopub.status.idle": "2023-01-26T20:11:33.956780Z",
     "shell.execute_reply": "2023-01-26T20:11:33.955206Z"
    },
    "papermill": {
     "duration": 0.038068,
     "end_time": "2023-01-26T20:11:33.960877",
     "exception": false,
     "start_time": "2023-01-26T20:11:33.922809",
     "status": "completed"
    },
    "tags": []
   },
   "outputs": [],
   "source": [
    "#get inference\n",
    "def inference(similar_articles):\n",
    "    sim_list = []\n",
    "    for ind, value in enumerate(similar_articles):\n",
    "        \n",
    "    #get index of the similar articles\n",
    "        index = value[0]\n",
    "        \n",
    "    #print the similar element according to rank, index, the article itself \n",
    "    #and the corresponding cosine similarities\n",
    "        sim_list.append([ind + 1, df.text[index], value[1]])\n",
    "    return (pd.DataFrame(sim_list, columns=[\"rank\", \"text\", \"cos_sim\"]))"
   ]
  },
  {
   "cell_type": "code",
   "execution_count": 22,
   "id": "b9a366d9",
   "metadata": {
    "execution": {
     "iopub.execute_input": "2023-01-26T20:11:33.985950Z",
     "iopub.status.busy": "2023-01-26T20:11:33.985548Z",
     "iopub.status.idle": "2023-01-26T20:11:33.998142Z",
     "shell.execute_reply": "2023-01-26T20:11:33.997265Z"
    },
    "papermill": {
     "duration": 0.023675,
     "end_time": "2023-01-26T20:11:34.000120",
     "exception": false,
     "start_time": "2023-01-26T20:11:33.976445",
     "status": "completed"
    },
    "tags": []
   },
   "outputs": [
    {
     "data": {
      "text/html": [
       "<div>\n",
       "<style scoped>\n",
       "    .dataframe tbody tr th:only-of-type {\n",
       "        vertical-align: middle;\n",
       "    }\n",
       "\n",
       "    .dataframe tbody tr th {\n",
       "        vertical-align: top;\n",
       "    }\n",
       "\n",
       "    .dataframe thead th {\n",
       "        text-align: right;\n",
       "    }\n",
       "</style>\n",
       "<table border=\"1\" class=\"dataframe\">\n",
       "  <thead>\n",
       "    <tr style=\"text-align: right;\">\n",
       "      <th></th>\n",
       "      <th>rank</th>\n",
       "      <th>text</th>\n",
       "      <th>cos_sim</th>\n",
       "    </tr>\n",
       "  </thead>\n",
       "  <tbody>\n",
       "    <tr>\n",
       "      <th>0</th>\n",
       "      <td>1</td>\n",
       "      <td>chatbots next big thing happened startup mediu...</td>\n",
       "      <td>0.958229</td>\n",
       "    </tr>\n",
       "    <tr>\n",
       "      <th>1</th>\n",
       "      <td>2</td>\n",
       "      <td>ui new ui startup medium rise ui le apps shoul...</td>\n",
       "      <td>0.937256</td>\n",
       "    </tr>\n",
       "    <tr>\n",
       "      <th>2</th>\n",
       "      <td>3</td>\n",
       "      <td>invisible interface going transform way intera...</td>\n",
       "      <td>0.928555</td>\n",
       "    </tr>\n",
       "    <tr>\n",
       "      <th>3</th>\n",
       "      <td>4</td>\n",
       "      <td>siri descendant intelligent assistant evolve i...</td>\n",
       "      <td>0.928407</td>\n",
       "    </tr>\n",
       "    <tr>\n",
       "      <th>4</th>\n",
       "      <td>5</td>\n",
       "      <td>looking ghost machine weird thing short ago wr...</td>\n",
       "      <td>0.917099</td>\n",
       "    </tr>\n",
       "  </tbody>\n",
       "</table>\n",
       "</div>"
      ],
      "text/plain": [
       "   rank                                               text   cos_sim\n",
       "0     1  chatbots next big thing happened startup mediu...  0.958229\n",
       "1     2  ui new ui startup medium rise ui le apps shoul...  0.937256\n",
       "2     3  invisible interface going transform way intera...  0.928555\n",
       "3     4  siri descendant intelligent assistant evolve i...  0.928407\n",
       "4     5  looking ghost machine weird thing short ago wr...  0.917099"
      ]
     },
     "execution_count": 22,
     "metadata": {},
     "output_type": "execute_result"
    }
   ],
   "source": [
    "#get the first 5 articles similar to the article with index 0\n",
    "inference(sim_5_article)"
   ]
  }
 ],
 "metadata": {
  "kernelspec": {
   "display_name": "Python 3",
   "language": "python",
   "name": "python3"
  },
  "language_info": {
   "codemirror_mode": {
    "name": "ipython",
    "version": 3
   },
   "file_extension": ".py",
   "mimetype": "text/x-python",
   "name": "python",
   "nbconvert_exporter": "python",
   "pygments_lexer": "ipython3",
   "version": "3.7.12"
  },
  "papermill": {
   "default_parameters": {},
   "duration": 21.874637,
   "end_time": "2023-01-26T20:11:35.031576",
   "environment_variables": {},
   "exception": null,
   "input_path": "__notebook__.ipynb",
   "output_path": "__notebook__.ipynb",
   "parameters": {},
   "start_time": "2023-01-26T20:11:13.156939",
   "version": "2.3.4"
  }
 },
 "nbformat": 4,
 "nbformat_minor": 5
}
